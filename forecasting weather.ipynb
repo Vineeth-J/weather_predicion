{
 "cells": [
  {
   "cell_type": "code",
   "execution_count": 2,
   "id": "841fd164",
   "metadata": {},
   "outputs": [
    {
     "name": "stdout",
     "output_type": "stream",
     "text": [
      "Collecting neuralprophet\n",
      "  Downloading neuralprophet-0.3.0-py3-none-any.whl (67 kB)\n",
      "     -------------------------------------- 67.4/67.4 KB 366.4 kB/s eta 0:00:00\n",
      "Collecting torch>=1.4.0\n",
      "  Downloading torch-1.10.2-cp37-cp37m-win_amd64.whl (226.6 MB)\n",
      "     -------------------------------------- 226.6/226.6 MB 1.3 MB/s eta 0:00:00\n",
      "Collecting tqdm>=4.50.2\n",
      "  Downloading tqdm-4.62.3-py2.py3-none-any.whl (76 kB)\n",
      "     ---------------------------------------- 76.2/76.2 KB 1.4 MB/s eta 0:00:00\n",
      "Requirement already satisfied: python-dateutil>=2.8.0 in d:\\python\\lib\\site-packages (from neuralprophet) (2.8.2)\n",
      "Collecting convertdate>=2.1.2\n",
      "  Downloading convertdate-2.4.0-py3-none-any.whl (47 kB)\n",
      "     ---------------------------------------- 47.9/47.9 KB 1.2 MB/s eta 0:00:00\n",
      "Collecting holidays>=0.11.3.1\n",
      "  Downloading holidays-0.12-py3-none-any.whl (165 kB)\n",
      "     -------------------------------------- 165.6/165.6 KB 1.7 MB/s eta 0:00:00\n",
      "Collecting matplotlib>=2.0.0\n",
      "  Downloading matplotlib-3.5.1-cp37-cp37m-win_amd64.whl (7.2 MB)\n",
      "     ---------------------------------------- 7.2/7.2 MB 1.7 MB/s eta 0:00:00\n",
      "Requirement already satisfied: ipywidgets>=7.5.1 in d:\\python\\lib\\site-packages (from neuralprophet) (7.6.5)\n",
      "Collecting LunarCalendar>=0.0.9\n",
      "  Downloading LunarCalendar-0.0.9-py2.py3-none-any.whl (18 kB)\n",
      "Collecting numpy>=1.15.4\n",
      "  Downloading numpy-1.21.5-cp37-cp37m-win_amd64.whl (14.0 MB)\n",
      "     -------------------------------------- 14.0/14.0 MB 826.7 kB/s eta 0:00:00\n",
      "Collecting torch-lr-finder>=0.2.1\n",
      "  Downloading torch_lr_finder-0.2.1-py3-none-any.whl (11 kB)\n",
      "Collecting pandas>=1.0.4\n",
      "  Downloading pandas-1.3.5-cp37-cp37m-win_amd64.whl (10.0 MB)\n",
      "     ---------------------------------------- 10.0/10.0 MB 1.5 MB/s eta 0:00:00\n",
      "Collecting dataclasses>=0.6\n",
      "  Downloading dataclasses-0.6-py3-none-any.whl (14 kB)\n",
      "Collecting pymeeus<=1,>=0.3.13\n",
      "  Downloading PyMeeus-0.5.11.tar.gz (5.4 MB)\n",
      "     ---------------------------------------- 5.4/5.4 MB 1.7 MB/s eta 0:00:00\n",
      "  Preparing metadata (setup.py): started\n",
      "  Preparing metadata (setup.py): finished with status 'done'\n",
      "Collecting hijri-converter\n",
      "  Downloading hijri_converter-2.2.2-py3-none-any.whl (13 kB)\n",
      "Collecting korean-lunar-calendar\n",
      "  Downloading korean_lunar_calendar-0.2.1-py3-none-any.whl (8.0 kB)\n",
      "Requirement already satisfied: widgetsnbextension~=3.5.0 in d:\\python\\lib\\site-packages (from ipywidgets>=7.5.1->neuralprophet) (3.5.2)\n",
      "Requirement already satisfied: ipykernel>=4.5.1 in d:\\python\\lib\\site-packages (from ipywidgets>=7.5.1->neuralprophet) (6.9.0)\n",
      "Requirement already satisfied: traitlets>=4.3.1 in d:\\python\\lib\\site-packages (from ipywidgets>=7.5.1->neuralprophet) (5.1.1)\n",
      "Requirement already satisfied: ipython-genutils~=0.2.0 in d:\\python\\lib\\site-packages (from ipywidgets>=7.5.1->neuralprophet) (0.2.0)\n",
      "Requirement already satisfied: ipython>=4.0.0 in d:\\python\\lib\\site-packages (from ipywidgets>=7.5.1->neuralprophet) (7.31.1)\n",
      "Requirement already satisfied: nbformat>=4.2.0 in d:\\python\\lib\\site-packages (from ipywidgets>=7.5.1->neuralprophet) (5.1.3)\n",
      "Requirement already satisfied: jupyterlab-widgets>=1.0.0 in d:\\python\\lib\\site-packages (from ipywidgets>=7.5.1->neuralprophet) (1.0.2)\n",
      "Collecting pytz\n",
      "  Downloading pytz-2021.3-py2.py3-none-any.whl (503 kB)\n",
      "     -------------------------------------- 503.5/503.5 KB 1.8 MB/s eta 0:00:00\n",
      "Collecting ephem>=3.7.5.3\n",
      "  Downloading ephem-4.1.3-cp37-cp37m-win_amd64.whl (1.4 MB)\n",
      "     ---------------------------------------- 1.4/1.4 MB 1.1 MB/s eta 0:00:00\n",
      "Collecting kiwisolver>=1.0.1\n",
      "  Downloading kiwisolver-1.3.2-cp37-cp37m-win_amd64.whl (51 kB)\n",
      "     -------------------------------------- 51.6/51.6 KB 667.2 kB/s eta 0:00:00\n",
      "Requirement already satisfied: packaging>=20.0 in d:\\python\\lib\\site-packages (from matplotlib>=2.0.0->neuralprophet) (21.3)\n",
      "Collecting fonttools>=4.22.0\n",
      "  Downloading fonttools-4.29.1-py3-none-any.whl (895 kB)\n",
      "     -------------------------------------- 895.5/895.5 KB 1.3 MB/s eta 0:00:00\n",
      "Requirement already satisfied: pyparsing>=2.2.1 in d:\\python\\lib\\site-packages (from matplotlib>=2.0.0->neuralprophet) (3.0.7)\n",
      "Collecting cycler>=0.10\n",
      "  Downloading cycler-0.11.0-py3-none-any.whl (6.4 kB)\n",
      "Collecting pillow>=6.2.0\n",
      "  Downloading Pillow-9.0.1-cp37-cp37m-win_amd64.whl (3.2 MB)\n",
      "     ---------------------------------------- 3.2/3.2 MB 1.3 MB/s eta 0:00:00\n",
      "Requirement already satisfied: six>=1.5 in d:\\python\\lib\\site-packages (from python-dateutil>=2.8.0->neuralprophet) (1.16.0)\n",
      "Requirement already satisfied: typing-extensions in d:\\python\\lib\\site-packages (from torch>=1.4.0->neuralprophet) (4.0.1)\n",
      "Requirement already satisfied: colorama in d:\\python\\lib\\site-packages (from tqdm>=4.50.2->neuralprophet) (0.4.4)\n",
      "Requirement already satisfied: debugpy<2.0,>=1.0.0 in d:\\python\\lib\\site-packages (from ipykernel>=4.5.1->ipywidgets>=7.5.1->neuralprophet) (1.5.1)\n",
      "Requirement already satisfied: tornado<7.0,>=4.2 in d:\\python\\lib\\site-packages (from ipykernel>=4.5.1->ipywidgets>=7.5.1->neuralprophet) (6.1)\n",
      "Requirement already satisfied: jupyter-client<8.0 in d:\\python\\lib\\site-packages (from ipykernel>=4.5.1->ipywidgets>=7.5.1->neuralprophet) (7.1.2)\n",
      "Requirement already satisfied: nest-asyncio in d:\\python\\lib\\site-packages (from ipykernel>=4.5.1->ipywidgets>=7.5.1->neuralprophet) (1.5.4)\n",
      "Requirement already satisfied: matplotlib-inline<0.2.0,>=0.1.0 in d:\\python\\lib\\site-packages (from ipykernel>=4.5.1->ipywidgets>=7.5.1->neuralprophet) (0.1.3)\n",
      "Requirement already satisfied: decorator in d:\\python\\lib\\site-packages (from ipython>=4.0.0->ipywidgets>=7.5.1->neuralprophet) (5.1.1)\n",
      "Requirement already satisfied: pygments in d:\\python\\lib\\site-packages (from ipython>=4.0.0->ipywidgets>=7.5.1->neuralprophet) (2.11.2)\n",
      "Requirement already satisfied: jedi>=0.16 in d:\\python\\lib\\site-packages (from ipython>=4.0.0->ipywidgets>=7.5.1->neuralprophet) (0.18.1)\n",
      "Requirement already satisfied: pickleshare in d:\\python\\lib\\site-packages (from ipython>=4.0.0->ipywidgets>=7.5.1->neuralprophet) (0.7.5)\n",
      "Requirement already satisfied: setuptools>=18.5 in d:\\python\\lib\\site-packages (from ipython>=4.0.0->ipywidgets>=7.5.1->neuralprophet) (40.8.0)\n",
      "Requirement already satisfied: prompt-toolkit!=3.0.0,!=3.0.1,<3.1.0,>=2.0.0 in d:\\python\\lib\\site-packages (from ipython>=4.0.0->ipywidgets>=7.5.1->neuralprophet) (3.0.27)\n",
      "Requirement already satisfied: backcall in d:\\python\\lib\\site-packages (from ipython>=4.0.0->ipywidgets>=7.5.1->neuralprophet) (0.2.0)\n",
      "Requirement already satisfied: jsonschema!=2.5.0,>=2.4 in d:\\python\\lib\\site-packages (from nbformat>=4.2.0->ipywidgets>=7.5.1->neuralprophet) (4.4.0)\n",
      "Requirement already satisfied: jupyter-core in d:\\python\\lib\\site-packages (from nbformat>=4.2.0->ipywidgets>=7.5.1->neuralprophet) (4.9.1)\n",
      "Requirement already satisfied: notebook>=4.4.1 in d:\\python\\lib\\site-packages (from widgetsnbextension~=3.5.0->ipywidgets>=7.5.1->neuralprophet) (6.4.8)\n",
      "Requirement already satisfied: parso<0.9.0,>=0.8.0 in d:\\python\\lib\\site-packages (from jedi>=0.16->ipython>=4.0.0->ipywidgets>=7.5.1->neuralprophet) (0.8.3)\n",
      "Requirement already satisfied: importlib-resources>=1.4.0 in d:\\python\\lib\\site-packages (from jsonschema!=2.5.0,>=2.4->nbformat>=4.2.0->ipywidgets>=7.5.1->neuralprophet) (5.4.0)\n",
      "Requirement already satisfied: attrs>=17.4.0 in d:\\python\\lib\\site-packages (from jsonschema!=2.5.0,>=2.4->nbformat>=4.2.0->ipywidgets>=7.5.1->neuralprophet) (21.4.0)\n",
      "Requirement already satisfied: pyrsistent!=0.17.0,!=0.17.1,!=0.17.2,>=0.14.0 in d:\\python\\lib\\site-packages (from jsonschema!=2.5.0,>=2.4->nbformat>=4.2.0->ipywidgets>=7.5.1->neuralprophet) (0.18.1)\n",
      "Requirement already satisfied: importlib-metadata in d:\\python\\lib\\site-packages (from jsonschema!=2.5.0,>=2.4->nbformat>=4.2.0->ipywidgets>=7.5.1->neuralprophet) (4.11.0)\n",
      "Requirement already satisfied: entrypoints in d:\\python\\lib\\site-packages (from jupyter-client<8.0->ipykernel>=4.5.1->ipywidgets>=7.5.1->neuralprophet) (0.4)\n",
      "Requirement already satisfied: pyzmq>=13 in d:\\python\\lib\\site-packages (from jupyter-client<8.0->ipykernel>=4.5.1->ipywidgets>=7.5.1->neuralprophet) (22.3.0)\n",
      "Requirement already satisfied: pywin32>=1.0 in d:\\python\\lib\\site-packages (from jupyter-core->nbformat>=4.2.0->ipywidgets>=7.5.1->neuralprophet) (303)\n",
      "Requirement already satisfied: terminado>=0.8.3 in d:\\python\\lib\\site-packages (from notebook>=4.4.1->widgetsnbextension~=3.5.0->ipywidgets>=7.5.1->neuralprophet) (0.13.1)\n",
      "Requirement already satisfied: nbconvert in d:\\python\\lib\\site-packages (from notebook>=4.4.1->widgetsnbextension~=3.5.0->ipywidgets>=7.5.1->neuralprophet) (6.4.2)\n",
      "Requirement already satisfied: jinja2 in d:\\python\\lib\\site-packages (from notebook>=4.4.1->widgetsnbextension~=3.5.0->ipywidgets>=7.5.1->neuralprophet) (3.0.3)\n",
      "Requirement already satisfied: argon2-cffi in d:\\python\\lib\\site-packages (from notebook>=4.4.1->widgetsnbextension~=3.5.0->ipywidgets>=7.5.1->neuralprophet) (21.3.0)\n",
      "Requirement already satisfied: Send2Trash>=1.8.0 in d:\\python\\lib\\site-packages (from notebook>=4.4.1->widgetsnbextension~=3.5.0->ipywidgets>=7.5.1->neuralprophet) (1.8.0)\n",
      "Requirement already satisfied: prometheus-client in d:\\python\\lib\\site-packages (from notebook>=4.4.1->widgetsnbextension~=3.5.0->ipywidgets>=7.5.1->neuralprophet) (0.13.1)\n",
      "Requirement already satisfied: wcwidth in d:\\python\\lib\\site-packages (from prompt-toolkit!=3.0.0,!=3.0.1,<3.1.0,>=2.0.0->ipython>=4.0.0->ipywidgets>=7.5.1->neuralprophet) (0.2.5)\n",
      "Requirement already satisfied: zipp>=3.1.0 in d:\\python\\lib\\site-packages (from importlib-resources>=1.4.0->jsonschema!=2.5.0,>=2.4->nbformat>=4.2.0->ipywidgets>=7.5.1->neuralprophet) (3.7.0)\n",
      "Requirement already satisfied: pywinpty>=1.1.0 in d:\\python\\lib\\site-packages (from terminado>=0.8.3->notebook>=4.4.1->widgetsnbextension~=3.5.0->ipywidgets>=7.5.1->neuralprophet) (2.0.2)\n",
      "Requirement already satisfied: argon2-cffi-bindings in d:\\python\\lib\\site-packages (from argon2-cffi->notebook>=4.4.1->widgetsnbextension~=3.5.0->ipywidgets>=7.5.1->neuralprophet) (21.2.0)\n",
      "Requirement already satisfied: MarkupSafe>=2.0 in d:\\python\\lib\\site-packages (from jinja2->notebook>=4.4.1->widgetsnbextension~=3.5.0->ipywidgets>=7.5.1->neuralprophet) (2.0.1)\n",
      "Requirement already satisfied: defusedxml in d:\\python\\lib\\site-packages (from nbconvert->notebook>=4.4.1->widgetsnbextension~=3.5.0->ipywidgets>=7.5.1->neuralprophet) (0.7.1)\n",
      "Requirement already satisfied: jupyterlab-pygments in d:\\python\\lib\\site-packages (from nbconvert->notebook>=4.4.1->widgetsnbextension~=3.5.0->ipywidgets>=7.5.1->neuralprophet) (0.1.2)\n",
      "Requirement already satisfied: mistune<2,>=0.8.1 in d:\\python\\lib\\site-packages (from nbconvert->notebook>=4.4.1->widgetsnbextension~=3.5.0->ipywidgets>=7.5.1->neuralprophet) (0.8.4)\n",
      "Requirement already satisfied: testpath in d:\\python\\lib\\site-packages (from nbconvert->notebook>=4.4.1->widgetsnbextension~=3.5.0->ipywidgets>=7.5.1->neuralprophet) (0.5.0)\n",
      "Requirement already satisfied: pandocfilters>=1.4.1 in d:\\python\\lib\\site-packages (from nbconvert->notebook>=4.4.1->widgetsnbextension~=3.5.0->ipywidgets>=7.5.1->neuralprophet) (1.5.0)\n",
      "Requirement already satisfied: bleach in d:\\python\\lib\\site-packages (from nbconvert->notebook>=4.4.1->widgetsnbextension~=3.5.0->ipywidgets>=7.5.1->neuralprophet) (4.1.0)\n",
      "Requirement already satisfied: nbclient<0.6.0,>=0.5.0 in d:\\python\\lib\\site-packages (from nbconvert->notebook>=4.4.1->widgetsnbextension~=3.5.0->ipywidgets>=7.5.1->neuralprophet) (0.5.10)\n",
      "Requirement already satisfied: cffi>=1.0.1 in d:\\python\\lib\\site-packages (from argon2-cffi-bindings->argon2-cffi->notebook>=4.4.1->widgetsnbextension~=3.5.0->ipywidgets>=7.5.1->neuralprophet) (1.15.0)\n",
      "Requirement already satisfied: webencodings in d:\\python\\lib\\site-packages (from bleach->nbconvert->notebook>=4.4.1->widgetsnbextension~=3.5.0->ipywidgets>=7.5.1->neuralprophet) (0.5.1)\n",
      "Requirement already satisfied: pycparser in d:\\python\\lib\\site-packages (from cffi>=1.0.1->argon2-cffi-bindings->argon2-cffi->notebook>=4.4.1->widgetsnbextension~=3.5.0->ipywidgets>=7.5.1->neuralprophet) (2.21)\n",
      "Using legacy 'setup.py install' for pymeeus, since package 'wheel' is not installed.\n",
      "Installing collected packages: pytz, pymeeus, korean-lunar-calendar, ephem, dataclasses, tqdm, torch, pillow, numpy, kiwisolver, hijri-converter, fonttools, cycler, convertdate, pandas, matplotlib, LunarCalendar, holidays, torch-lr-finder, neuralprophet\n",
      "  Running setup.py install for pymeeus: started\n",
      "  Running setup.py install for pymeeus: finished with status 'done'\n",
      "Successfully installed LunarCalendar-0.0.9 convertdate-2.4.0 cycler-0.11.0 dataclasses-0.6 ephem-4.1.3 fonttools-4.29.1 hijri-converter-2.2.2 holidays-0.12 kiwisolver-1.3.2 korean-lunar-calendar-0.2.1 matplotlib-3.5.1 neuralprophet-0.3.0 numpy-1.21.5 pandas-1.3.5 pillow-9.0.1 pymeeus-0.5.11 pytz-2021.3 torch-1.10.2 torch-lr-finder-0.2.1 tqdm-4.62.3\n"
     ]
    },
    {
     "name": "stdout",
     "output_type": "stream",
     "text": [
      "Requirement already satisfied: neuralprophet in d:\\python\\lib\\site-packages (0.3.0)\n",
      "Requirement already satisfied: matplotlib>=2.0.0 in d:\\python\\lib\\site-packages (from neuralprophet) (3.5.1)\n",
      "Requirement already satisfied: numpy>=1.15.4 in d:\\python\\lib\\site-packages (from neuralprophet) (1.21.5)\n",
      "Requirement already satisfied: python-dateutil>=2.8.0 in d:\\python\\lib\\site-packages (from neuralprophet) (2.8.2)\n",
      "Requirement already satisfied: torch>=1.4.0 in d:\\python\\lib\\site-packages (from neuralprophet) (1.10.2)\n",
      "Requirement already satisfied: tqdm>=4.50.2 in d:\\python\\lib\\site-packages (from neuralprophet) (4.62.3)\n",
      "Requirement already satisfied: ipywidgets>=7.5.1 in d:\\python\\lib\\site-packages (from neuralprophet) (7.6.5)\n",
      "Requirement already satisfied: pandas>=1.0.4 in d:\\python\\lib\\site-packages (from neuralprophet) (1.3.5)\n",
      "Requirement already satisfied: torch-lr-finder>=0.2.1 in d:\\python\\lib\\site-packages (from neuralprophet) (0.2.1)\n",
      "Requirement already satisfied: dataclasses>=0.6 in d:\\python\\lib\\site-packages (from neuralprophet) (0.6)\n",
      "Requirement already satisfied: holidays>=0.11.3.1 in d:\\python\\lib\\site-packages (from neuralprophet) (0.12)\n",
      "Requirement already satisfied: convertdate>=2.1.2 in d:\\python\\lib\\site-packages (from neuralprophet) (2.4.0)\n",
      "Requirement already satisfied: LunarCalendar>=0.0.9 in d:\\python\\lib\\site-packages (from neuralprophet) (0.0.9)\n",
      "Requirement already satisfied: pymeeus<=1,>=0.3.13 in d:\\python\\lib\\site-packages (from convertdate>=2.1.2->neuralprophet) (0.5.11)\n",
      "Requirement already satisfied: hijri-converter in d:\\python\\lib\\site-packages (from holidays>=0.11.3.1->neuralprophet) (2.2.2)\n",
      "Requirement already satisfied: korean-lunar-calendar in d:\\python\\lib\\site-packages (from holidays>=0.11.3.1->neuralprophet) (0.2.1)\n",
      "Requirement already satisfied: ipython-genutils~=0.2.0 in d:\\python\\lib\\site-packages (from ipywidgets>=7.5.1->neuralprophet) (0.2.0)\n",
      "Requirement already satisfied: widgetsnbextension~=3.5.0 in d:\\python\\lib\\site-packages (from ipywidgets>=7.5.1->neuralprophet) (3.5.2)\n",
      "Requirement already satisfied: ipython>=4.0.0 in d:\\python\\lib\\site-packages (from ipywidgets>=7.5.1->neuralprophet) (7.31.1)\n",
      "Requirement already satisfied: nbformat>=4.2.0 in d:\\python\\lib\\site-packages (from ipywidgets>=7.5.1->neuralprophet) (5.1.3)\n",
      "Requirement already satisfied: jupyterlab-widgets>=1.0.0 in d:\\python\\lib\\site-packages (from ipywidgets>=7.5.1->neuralprophet) (1.0.2)\n",
      "Requirement already satisfied: traitlets>=4.3.1 in d:\\python\\lib\\site-packages (from ipywidgets>=7.5.1->neuralprophet) (5.1.1)\n",
      "Requirement already satisfied: ipykernel>=4.5.1 in d:\\python\\lib\\site-packages (from ipywidgets>=7.5.1->neuralprophet) (6.9.0)\n",
      "Requirement already satisfied: ephem>=3.7.5.3 in d:\\python\\lib\\site-packages (from LunarCalendar>=0.0.9->neuralprophet) (4.1.3)\n",
      "Requirement already satisfied: pytz in d:\\python\\lib\\site-packages (from LunarCalendar>=0.0.9->neuralprophet) (2021.3)\n",
      "Requirement already satisfied: fonttools>=4.22.0 in d:\\python\\lib\\site-packages (from matplotlib>=2.0.0->neuralprophet) (4.29.1)\n",
      "Requirement already satisfied: pyparsing>=2.2.1 in d:\\python\\lib\\site-packages (from matplotlib>=2.0.0->neuralprophet) (3.0.7)\n",
      "Requirement already satisfied: kiwisolver>=1.0.1 in d:\\python\\lib\\site-packages (from matplotlib>=2.0.0->neuralprophet) (1.3.2)\n",
      "Requirement already satisfied: cycler>=0.10 in d:\\python\\lib\\site-packages (from matplotlib>=2.0.0->neuralprophet) (0.11.0)\n",
      "Requirement already satisfied: pillow>=6.2.0 in d:\\python\\lib\\site-packages (from matplotlib>=2.0.0->neuralprophet) (9.0.1)\n",
      "Requirement already satisfied: packaging>=20.0 in d:\\python\\lib\\site-packages (from matplotlib>=2.0.0->neuralprophet) (21.3)\n",
      "Requirement already satisfied: six>=1.5 in d:\\python\\lib\\site-packages (from python-dateutil>=2.8.0->neuralprophet) (1.16.0)\n",
      "Requirement already satisfied: typing-extensions in d:\\python\\lib\\site-packages (from torch>=1.4.0->neuralprophet) (4.0.1)\n",
      "Requirement already satisfied: colorama in d:\\python\\lib\\site-packages (from tqdm>=4.50.2->neuralprophet) (0.4.4)\n",
      "Requirement already satisfied: matplotlib-inline<0.2.0,>=0.1.0 in d:\\python\\lib\\site-packages (from ipykernel>=4.5.1->ipywidgets>=7.5.1->neuralprophet) (0.1.3)\n",
      "Requirement already satisfied: tornado<7.0,>=4.2 in d:\\python\\lib\\site-packages (from ipykernel>=4.5.1->ipywidgets>=7.5.1->neuralprophet) (6.1)\n",
      "Requirement already satisfied: jupyter-client<8.0 in d:\\python\\lib\\site-packages (from ipykernel>=4.5.1->ipywidgets>=7.5.1->neuralprophet) (7.1.2)\n",
      "Requirement already satisfied: debugpy<2.0,>=1.0.0 in d:\\python\\lib\\site-packages (from ipykernel>=4.5.1->ipywidgets>=7.5.1->neuralprophet) (1.5.1)\n",
      "Requirement already satisfied: nest-asyncio in d:\\python\\lib\\site-packages (from ipykernel>=4.5.1->ipywidgets>=7.5.1->neuralprophet) (1.5.4)\n",
      "Requirement already satisfied: pygments in d:\\python\\lib\\site-packages (from ipython>=4.0.0->ipywidgets>=7.5.1->neuralprophet) (2.11.2)\n",
      "Requirement already satisfied: pickleshare in d:\\python\\lib\\site-packages (from ipython>=4.0.0->ipywidgets>=7.5.1->neuralprophet) (0.7.5)\n",
      "Requirement already satisfied: jedi>=0.16 in d:\\python\\lib\\site-packages (from ipython>=4.0.0->ipywidgets>=7.5.1->neuralprophet) (0.18.1)\n",
      "Requirement already satisfied: prompt-toolkit!=3.0.0,!=3.0.1,<3.1.0,>=2.0.0 in d:\\python\\lib\\site-packages (from ipython>=4.0.0->ipywidgets>=7.5.1->neuralprophet) (3.0.27)\n",
      "Requirement already satisfied: decorator in d:\\python\\lib\\site-packages (from ipython>=4.0.0->ipywidgets>=7.5.1->neuralprophet) (5.1.1)\n",
      "Requirement already satisfied: setuptools>=18.5 in d:\\python\\lib\\site-packages (from ipython>=4.0.0->ipywidgets>=7.5.1->neuralprophet) (40.8.0)\n",
      "Requirement already satisfied: backcall in d:\\python\\lib\\site-packages (from ipython>=4.0.0->ipywidgets>=7.5.1->neuralprophet) (0.2.0)\n",
      "Requirement already satisfied: jupyter-core in d:\\python\\lib\\site-packages (from nbformat>=4.2.0->ipywidgets>=7.5.1->neuralprophet) (4.9.1)\n",
      "Requirement already satisfied: jsonschema!=2.5.0,>=2.4 in d:\\python\\lib\\site-packages (from nbformat>=4.2.0->ipywidgets>=7.5.1->neuralprophet) (4.4.0)\n",
      "Requirement already satisfied: notebook>=4.4.1 in d:\\python\\lib\\site-packages (from widgetsnbextension~=3.5.0->ipywidgets>=7.5.1->neuralprophet) (6.4.8)\n",
      "Requirement already satisfied: parso<0.9.0,>=0.8.0 in d:\\python\\lib\\site-packages (from jedi>=0.16->ipython>=4.0.0->ipywidgets>=7.5.1->neuralprophet) (0.8.3)\n",
      "Requirement already satisfied: importlib-resources>=1.4.0 in d:\\python\\lib\\site-packages (from jsonschema!=2.5.0,>=2.4->nbformat>=4.2.0->ipywidgets>=7.5.1->neuralprophet) (5.4.0)\n",
      "Requirement already satisfied: importlib-metadata in d:\\python\\lib\\site-packages (from jsonschema!=2.5.0,>=2.4->nbformat>=4.2.0->ipywidgets>=7.5.1->neuralprophet) (4.11.0)\n",
      "Requirement already satisfied: pyrsistent!=0.17.0,!=0.17.1,!=0.17.2,>=0.14.0 in d:\\python\\lib\\site-packages (from jsonschema!=2.5.0,>=2.4->nbformat>=4.2.0->ipywidgets>=7.5.1->neuralprophet) (0.18.1)\n",
      "Requirement already satisfied: attrs>=17.4.0 in d:\\python\\lib\\site-packages (from jsonschema!=2.5.0,>=2.4->nbformat>=4.2.0->ipywidgets>=7.5.1->neuralprophet) (21.4.0)\n",
      "Requirement already satisfied: pyzmq>=13 in d:\\python\\lib\\site-packages (from jupyter-client<8.0->ipykernel>=4.5.1->ipywidgets>=7.5.1->neuralprophet) (22.3.0)\n",
      "Requirement already satisfied: entrypoints in d:\\python\\lib\\site-packages (from jupyter-client<8.0->ipykernel>=4.5.1->ipywidgets>=7.5.1->neuralprophet) (0.4)\n",
      "Requirement already satisfied: pywin32>=1.0 in d:\\python\\lib\\site-packages (from jupyter-core->nbformat>=4.2.0->ipywidgets>=7.5.1->neuralprophet) (303)\n",
      "Requirement already satisfied: argon2-cffi in d:\\python\\lib\\site-packages (from notebook>=4.4.1->widgetsnbextension~=3.5.0->ipywidgets>=7.5.1->neuralprophet) (21.3.0)\n",
      "Requirement already satisfied: prometheus-client in d:\\python\\lib\\site-packages (from notebook>=4.4.1->widgetsnbextension~=3.5.0->ipywidgets>=7.5.1->neuralprophet) (0.13.1)\n",
      "Requirement already satisfied: nbconvert in d:\\python\\lib\\site-packages (from notebook>=4.4.1->widgetsnbextension~=3.5.0->ipywidgets>=7.5.1->neuralprophet) (6.4.2)\n",
      "Requirement already satisfied: terminado>=0.8.3 in d:\\python\\lib\\site-packages (from notebook>=4.4.1->widgetsnbextension~=3.5.0->ipywidgets>=7.5.1->neuralprophet) (0.13.1)\n",
      "Requirement already satisfied: Send2Trash>=1.8.0 in d:\\python\\lib\\site-packages (from notebook>=4.4.1->widgetsnbextension~=3.5.0->ipywidgets>=7.5.1->neuralprophet) (1.8.0)\n",
      "Requirement already satisfied: jinja2 in d:\\python\\lib\\site-packages (from notebook>=4.4.1->widgetsnbextension~=3.5.0->ipywidgets>=7.5.1->neuralprophet) (3.0.3)\n",
      "Requirement already satisfied: wcwidth in d:\\python\\lib\\site-packages (from prompt-toolkit!=3.0.0,!=3.0.1,<3.1.0,>=2.0.0->ipython>=4.0.0->ipywidgets>=7.5.1->neuralprophet) (0.2.5)\n",
      "Requirement already satisfied: zipp>=3.1.0 in d:\\python\\lib\\site-packages (from importlib-resources>=1.4.0->jsonschema!=2.5.0,>=2.4->nbformat>=4.2.0->ipywidgets>=7.5.1->neuralprophet) (3.7.0)\n",
      "Requirement already satisfied: pywinpty>=1.1.0 in d:\\python\\lib\\site-packages (from terminado>=0.8.3->notebook>=4.4.1->widgetsnbextension~=3.5.0->ipywidgets>=7.5.1->neuralprophet) (2.0.2)\n",
      "Requirement already satisfied: argon2-cffi-bindings in d:\\python\\lib\\site-packages (from argon2-cffi->notebook>=4.4.1->widgetsnbextension~=3.5.0->ipywidgets>=7.5.1->neuralprophet) (21.2.0)\n",
      "Requirement already satisfied: MarkupSafe>=2.0 in d:\\python\\lib\\site-packages (from jinja2->notebook>=4.4.1->widgetsnbextension~=3.5.0->ipywidgets>=7.5.1->neuralprophet) (2.0.1)\n",
      "Requirement already satisfied: jupyterlab-pygments in d:\\python\\lib\\site-packages (from nbconvert->notebook>=4.4.1->widgetsnbextension~=3.5.0->ipywidgets>=7.5.1->neuralprophet) (0.1.2)\n",
      "Requirement already satisfied: defusedxml in d:\\python\\lib\\site-packages (from nbconvert->notebook>=4.4.1->widgetsnbextension~=3.5.0->ipywidgets>=7.5.1->neuralprophet) (0.7.1)\n",
      "Requirement already satisfied: nbclient<0.6.0,>=0.5.0 in d:\\python\\lib\\site-packages (from nbconvert->notebook>=4.4.1->widgetsnbextension~=3.5.0->ipywidgets>=7.5.1->neuralprophet) (0.5.10)\n",
      "Requirement already satisfied: pandocfilters>=1.4.1 in d:\\python\\lib\\site-packages (from nbconvert->notebook>=4.4.1->widgetsnbextension~=3.5.0->ipywidgets>=7.5.1->neuralprophet) (1.5.0)\n",
      "Requirement already satisfied: testpath in d:\\python\\lib\\site-packages (from nbconvert->notebook>=4.4.1->widgetsnbextension~=3.5.0->ipywidgets>=7.5.1->neuralprophet) (0.5.0)\n",
      "Requirement already satisfied: mistune<2,>=0.8.1 in d:\\python\\lib\\site-packages (from nbconvert->notebook>=4.4.1->widgetsnbextension~=3.5.0->ipywidgets>=7.5.1->neuralprophet) (0.8.4)\n",
      "Requirement already satisfied: bleach in d:\\python\\lib\\site-packages (from nbconvert->notebook>=4.4.1->widgetsnbextension~=3.5.0->ipywidgets>=7.5.1->neuralprophet) (4.1.0)\n",
      "Requirement already satisfied: cffi>=1.0.1 in d:\\python\\lib\\site-packages (from argon2-cffi-bindings->argon2-cffi->notebook>=4.4.1->widgetsnbextension~=3.5.0->ipywidgets>=7.5.1->neuralprophet) (1.15.0)\n",
      "Requirement already satisfied: webencodings in d:\\python\\lib\\site-packages (from bleach->nbconvert->notebook>=4.4.1->widgetsnbextension~=3.5.0->ipywidgets>=7.5.1->neuralprophet) (0.5.1)\n",
      "Requirement already satisfied: pycparser in d:\\python\\lib\\site-packages (from cffi>=1.0.1->argon2-cffi-bindings->argon2-cffi->notebook>=4.4.1->widgetsnbextension~=3.5.0->ipywidgets>=7.5.1->neuralprophet) (2.21)\n"
     ]
    }
   ],
   "source": [
    "!pip install neuralprophet"
   ]
  },
  {
   "cell_type": "code",
   "execution_count": 3,
   "id": "cfcddec2",
   "metadata": {},
   "outputs": [],
   "source": [
    "import pandas as pd\n",
    "from neuralprophet import NeuralProphet\n",
    "from matplotlib import pyplot as plt\n",
    "import pickle"
   ]
  },
  {
   "cell_type": "raw",
   "id": "7175c705",
   "metadata": {},
   "source": [
    "1. Read in Data and Process Dates"
   ]
  },
  {
   "cell_type": "code",
   "execution_count": 4,
   "id": "b16a2321",
   "metadata": {},
   "outputs": [
    {
     "data": {
      "text/html": [
       "<div>\n",
       "<style scoped>\n",
       "    .dataframe tbody tr th:only-of-type {\n",
       "        vertical-align: middle;\n",
       "    }\n",
       "\n",
       "    .dataframe tbody tr th {\n",
       "        vertical-align: top;\n",
       "    }\n",
       "\n",
       "    .dataframe thead th {\n",
       "        text-align: right;\n",
       "    }\n",
       "</style>\n",
       "<table border=\"1\" class=\"dataframe\">\n",
       "  <thead>\n",
       "    <tr style=\"text-align: right;\">\n",
       "      <th></th>\n",
       "      <th>Date</th>\n",
       "      <th>Location</th>\n",
       "      <th>MinTemp</th>\n",
       "      <th>MaxTemp</th>\n",
       "      <th>Rainfall</th>\n",
       "      <th>Evaporation</th>\n",
       "      <th>Sunshine</th>\n",
       "      <th>WindGustDir</th>\n",
       "      <th>WindGustSpeed</th>\n",
       "      <th>WindDir9am</th>\n",
       "      <th>...</th>\n",
       "      <th>Humidity9am</th>\n",
       "      <th>Humidity3pm</th>\n",
       "      <th>Pressure9am</th>\n",
       "      <th>Pressure3pm</th>\n",
       "      <th>Cloud9am</th>\n",
       "      <th>Cloud3pm</th>\n",
       "      <th>Temp9am</th>\n",
       "      <th>Temp3pm</th>\n",
       "      <th>RainToday</th>\n",
       "      <th>RainTomorrow</th>\n",
       "    </tr>\n",
       "  </thead>\n",
       "  <tbody>\n",
       "    <tr>\n",
       "      <th>0</th>\n",
       "      <td>2008-12-01</td>\n",
       "      <td>Albury</td>\n",
       "      <td>13.4</td>\n",
       "      <td>22.9</td>\n",
       "      <td>0.6</td>\n",
       "      <td>NaN</td>\n",
       "      <td>NaN</td>\n",
       "      <td>W</td>\n",
       "      <td>44.0</td>\n",
       "      <td>W</td>\n",
       "      <td>...</td>\n",
       "      <td>71.0</td>\n",
       "      <td>22.0</td>\n",
       "      <td>1007.7</td>\n",
       "      <td>1007.1</td>\n",
       "      <td>8.0</td>\n",
       "      <td>NaN</td>\n",
       "      <td>16.9</td>\n",
       "      <td>21.8</td>\n",
       "      <td>No</td>\n",
       "      <td>No</td>\n",
       "    </tr>\n",
       "    <tr>\n",
       "      <th>1</th>\n",
       "      <td>2008-12-02</td>\n",
       "      <td>Albury</td>\n",
       "      <td>7.4</td>\n",
       "      <td>25.1</td>\n",
       "      <td>0.0</td>\n",
       "      <td>NaN</td>\n",
       "      <td>NaN</td>\n",
       "      <td>WNW</td>\n",
       "      <td>44.0</td>\n",
       "      <td>NNW</td>\n",
       "      <td>...</td>\n",
       "      <td>44.0</td>\n",
       "      <td>25.0</td>\n",
       "      <td>1010.6</td>\n",
       "      <td>1007.8</td>\n",
       "      <td>NaN</td>\n",
       "      <td>NaN</td>\n",
       "      <td>17.2</td>\n",
       "      <td>24.3</td>\n",
       "      <td>No</td>\n",
       "      <td>No</td>\n",
       "    </tr>\n",
       "    <tr>\n",
       "      <th>2</th>\n",
       "      <td>2008-12-03</td>\n",
       "      <td>Albury</td>\n",
       "      <td>12.9</td>\n",
       "      <td>25.7</td>\n",
       "      <td>0.0</td>\n",
       "      <td>NaN</td>\n",
       "      <td>NaN</td>\n",
       "      <td>WSW</td>\n",
       "      <td>46.0</td>\n",
       "      <td>W</td>\n",
       "      <td>...</td>\n",
       "      <td>38.0</td>\n",
       "      <td>30.0</td>\n",
       "      <td>1007.6</td>\n",
       "      <td>1008.7</td>\n",
       "      <td>NaN</td>\n",
       "      <td>2.0</td>\n",
       "      <td>21.0</td>\n",
       "      <td>23.2</td>\n",
       "      <td>No</td>\n",
       "      <td>No</td>\n",
       "    </tr>\n",
       "    <tr>\n",
       "      <th>3</th>\n",
       "      <td>2008-12-04</td>\n",
       "      <td>Albury</td>\n",
       "      <td>9.2</td>\n",
       "      <td>28.0</td>\n",
       "      <td>0.0</td>\n",
       "      <td>NaN</td>\n",
       "      <td>NaN</td>\n",
       "      <td>NE</td>\n",
       "      <td>24.0</td>\n",
       "      <td>SE</td>\n",
       "      <td>...</td>\n",
       "      <td>45.0</td>\n",
       "      <td>16.0</td>\n",
       "      <td>1017.6</td>\n",
       "      <td>1012.8</td>\n",
       "      <td>NaN</td>\n",
       "      <td>NaN</td>\n",
       "      <td>18.1</td>\n",
       "      <td>26.5</td>\n",
       "      <td>No</td>\n",
       "      <td>No</td>\n",
       "    </tr>\n",
       "    <tr>\n",
       "      <th>4</th>\n",
       "      <td>2008-12-05</td>\n",
       "      <td>Albury</td>\n",
       "      <td>17.5</td>\n",
       "      <td>32.3</td>\n",
       "      <td>1.0</td>\n",
       "      <td>NaN</td>\n",
       "      <td>NaN</td>\n",
       "      <td>W</td>\n",
       "      <td>41.0</td>\n",
       "      <td>ENE</td>\n",
       "      <td>...</td>\n",
       "      <td>82.0</td>\n",
       "      <td>33.0</td>\n",
       "      <td>1010.8</td>\n",
       "      <td>1006.0</td>\n",
       "      <td>7.0</td>\n",
       "      <td>8.0</td>\n",
       "      <td>17.8</td>\n",
       "      <td>29.7</td>\n",
       "      <td>No</td>\n",
       "      <td>No</td>\n",
       "    </tr>\n",
       "  </tbody>\n",
       "</table>\n",
       "<p>5 rows × 23 columns</p>\n",
       "</div>"
      ],
      "text/plain": [
       "         Date Location  MinTemp  MaxTemp  Rainfall  Evaporation  Sunshine  \\\n",
       "0  2008-12-01   Albury     13.4     22.9       0.6          NaN       NaN   \n",
       "1  2008-12-02   Albury      7.4     25.1       0.0          NaN       NaN   \n",
       "2  2008-12-03   Albury     12.9     25.7       0.0          NaN       NaN   \n",
       "3  2008-12-04   Albury      9.2     28.0       0.0          NaN       NaN   \n",
       "4  2008-12-05   Albury     17.5     32.3       1.0          NaN       NaN   \n",
       "\n",
       "  WindGustDir  WindGustSpeed WindDir9am  ... Humidity9am  Humidity3pm  \\\n",
       "0           W           44.0          W  ...        71.0         22.0   \n",
       "1         WNW           44.0        NNW  ...        44.0         25.0   \n",
       "2         WSW           46.0          W  ...        38.0         30.0   \n",
       "3          NE           24.0         SE  ...        45.0         16.0   \n",
       "4           W           41.0        ENE  ...        82.0         33.0   \n",
       "\n",
       "   Pressure9am  Pressure3pm  Cloud9am  Cloud3pm  Temp9am  Temp3pm  RainToday  \\\n",
       "0       1007.7       1007.1       8.0       NaN     16.9     21.8         No   \n",
       "1       1010.6       1007.8       NaN       NaN     17.2     24.3         No   \n",
       "2       1007.6       1008.7       NaN       2.0     21.0     23.2         No   \n",
       "3       1017.6       1012.8       NaN       NaN     18.1     26.5         No   \n",
       "4       1010.8       1006.0       7.0       8.0     17.8     29.7         No   \n",
       "\n",
       "   RainTomorrow  \n",
       "0            No  \n",
       "1            No  \n",
       "2            No  \n",
       "3            No  \n",
       "4            No  \n",
       "\n",
       "[5 rows x 23 columns]"
      ]
     },
     "execution_count": 4,
     "metadata": {},
     "output_type": "execute_result"
    }
   ],
   "source": [
    "df = pd.read_csv('weatherdata.csv')\n",
    "df.head()"
   ]
  },
  {
   "cell_type": "code",
   "execution_count": 5,
   "id": "7e9b8ae8",
   "metadata": {},
   "outputs": [
    {
     "data": {
      "text/plain": [
       "array(['Albury', 'BadgerysCreek', 'Cobar', 'CoffsHarbour', 'Moree',\n",
       "       'Newcastle', 'NorahHead', 'NorfolkIsland', 'Penrith', 'Richmond',\n",
       "       'Sydney', 'SydneyAirport', 'WaggaWagga', 'Williamtown',\n",
       "       'Wollongong', 'Canberra', 'Tuggeranong', 'MountGinini', 'Ballarat',\n",
       "       'Bendigo', 'Sale', 'MelbourneAirport', 'Melbourne', 'Mildura',\n",
       "       'Nhil', 'Portland', 'Watsonia', 'Dartmoor', 'Brisbane', 'Cairns',\n",
       "       'GoldCoast', 'Townsville', 'Adelaide', 'MountGambier', 'Nuriootpa',\n",
       "       'Woomera', 'Albany', 'Witchcliffe', 'PearceRAAF', 'PerthAirport',\n",
       "       'Perth', 'SalmonGums', 'Walpole', 'Hobart', 'Launceston',\n",
       "       'AliceSprings', 'Darwin', 'Katherine', 'Uluru'], dtype=object)"
      ]
     },
     "execution_count": 5,
     "metadata": {},
     "output_type": "execute_result"
    }
   ],
   "source": [
    "df.Location.unique()"
   ]
  },
  {
   "cell_type": "code",
   "execution_count": 9,
   "id": "4182e999",
   "metadata": {},
   "outputs": [
    {
     "data": {
      "text/plain": [
       "Index(['Date', 'Location', 'MinTemp', 'MaxTemp', 'Rainfall', 'Evaporation',\n",
       "       'Sunshine', 'WindGustDir', 'WindGustSpeed', 'WindDir9am', 'WindDir3pm',\n",
       "       'WindSpeed9am', 'WindSpeed3pm', 'Humidity9am', 'Humidity3pm',\n",
       "       'Pressure9am', 'Pressure3pm', 'Cloud9am', 'Cloud3pm', 'Temp9am',\n",
       "       'Temp3pm', 'RainToday', 'RainTomorrow'],\n",
       "      dtype='object')"
      ]
     },
     "execution_count": 9,
     "metadata": {},
     "output_type": "execute_result"
    }
   ],
   "source": [
    "df.columns"
   ]
  },
  {
   "cell_type": "code",
   "execution_count": 11,
   "id": "ae06e54c",
   "metadata": {},
   "outputs": [
    {
     "data": {
      "text/plain": [
       "Date              object\n",
       "Location          object\n",
       "MinTemp          float64\n",
       "MaxTemp          float64\n",
       "Rainfall         float64\n",
       "Evaporation      float64\n",
       "Sunshine         float64\n",
       "WindGustDir       object\n",
       "WindGustSpeed    float64\n",
       "WindDir9am        object\n",
       "WindDir3pm        object\n",
       "WindSpeed9am     float64\n",
       "WindSpeed3pm     float64\n",
       "Humidity9am      float64\n",
       "Humidity3pm      float64\n",
       "Pressure9am      float64\n",
       "Pressure3pm      float64\n",
       "Cloud9am         float64\n",
       "Cloud3pm         float64\n",
       "Temp9am          float64\n",
       "Temp3pm          float64\n",
       "RainToday         object\n",
       "RainTomorrow      object\n",
       "dtype: object"
      ]
     },
     "execution_count": 11,
     "metadata": {},
     "output_type": "execute_result"
    }
   ],
   "source": [
    "df.dtypes"
   ]
  },
  {
   "cell_type": "code",
   "execution_count": 12,
   "id": "5567f0c9",
   "metadata": {},
   "outputs": [
    {
     "name": "stderr",
     "output_type": "stream",
     "text": [
      "WARNING - (py.warnings._showwarnmsg) - D:\\Python\\lib\\site-packages\\ipykernel_launcher.py:2: SettingWithCopyWarning: \n",
      "A value is trying to be set on a copy of a slice from a DataFrame.\n",
      "Try using .loc[row_indexer,col_indexer] = value instead\n",
      "\n",
      "See the caveats in the documentation: https://pandas.pydata.org/pandas-docs/stable/user_guide/indexing.html#returning-a-view-versus-a-copy\n",
      "  \n",
      "\n"
     ]
    },
    {
     "data": {
      "text/html": [
       "<div>\n",
       "<style scoped>\n",
       "    .dataframe tbody tr th:only-of-type {\n",
       "        vertical-align: middle;\n",
       "    }\n",
       "\n",
       "    .dataframe tbody tr th {\n",
       "        vertical-align: top;\n",
       "    }\n",
       "\n",
       "    .dataframe thead th {\n",
       "        text-align: right;\n",
       "    }\n",
       "</style>\n",
       "<table border=\"1\" class=\"dataframe\">\n",
       "  <thead>\n",
       "    <tr style=\"text-align: right;\">\n",
       "      <th></th>\n",
       "      <th>Date</th>\n",
       "      <th>Location</th>\n",
       "      <th>MinTemp</th>\n",
       "      <th>MaxTemp</th>\n",
       "      <th>Rainfall</th>\n",
       "      <th>Evaporation</th>\n",
       "      <th>Sunshine</th>\n",
       "      <th>WindGustDir</th>\n",
       "      <th>WindGustSpeed</th>\n",
       "      <th>WindDir9am</th>\n",
       "      <th>...</th>\n",
       "      <th>Humidity9am</th>\n",
       "      <th>Humidity3pm</th>\n",
       "      <th>Pressure9am</th>\n",
       "      <th>Pressure3pm</th>\n",
       "      <th>Cloud9am</th>\n",
       "      <th>Cloud3pm</th>\n",
       "      <th>Temp9am</th>\n",
       "      <th>Temp3pm</th>\n",
       "      <th>RainToday</th>\n",
       "      <th>RainTomorrow</th>\n",
       "    </tr>\n",
       "  </thead>\n",
       "  <tbody>\n",
       "    <tr>\n",
       "      <th>67200</th>\n",
       "      <td>2008-07-01</td>\n",
       "      <td>Melbourne</td>\n",
       "      <td>9.5</td>\n",
       "      <td>15.4</td>\n",
       "      <td>2.0</td>\n",
       "      <td>2.8</td>\n",
       "      <td>7.0</td>\n",
       "      <td>W</td>\n",
       "      <td>63.0</td>\n",
       "      <td>W</td>\n",
       "      <td>...</td>\n",
       "      <td>60.0</td>\n",
       "      <td>38.0</td>\n",
       "      <td>1006.8</td>\n",
       "      <td>1010.3</td>\n",
       "      <td>1.0</td>\n",
       "      <td>7.0</td>\n",
       "      <td>11.0</td>\n",
       "      <td>14.6</td>\n",
       "      <td>Yes</td>\n",
       "      <td>No</td>\n",
       "    </tr>\n",
       "    <tr>\n",
       "      <th>67201</th>\n",
       "      <td>2008-07-02</td>\n",
       "      <td>Melbourne</td>\n",
       "      <td>11.0</td>\n",
       "      <td>14.5</td>\n",
       "      <td>0.6</td>\n",
       "      <td>5.2</td>\n",
       "      <td>4.0</td>\n",
       "      <td>W</td>\n",
       "      <td>63.0</td>\n",
       "      <td>W</td>\n",
       "      <td>...</td>\n",
       "      <td>66.0</td>\n",
       "      <td>52.0</td>\n",
       "      <td>1013.4</td>\n",
       "      <td>1016.2</td>\n",
       "      <td>7.0</td>\n",
       "      <td>4.0</td>\n",
       "      <td>11.8</td>\n",
       "      <td>13.7</td>\n",
       "      <td>No</td>\n",
       "      <td>Yes</td>\n",
       "    </tr>\n",
       "    <tr>\n",
       "      <th>67202</th>\n",
       "      <td>2008-07-03</td>\n",
       "      <td>Melbourne</td>\n",
       "      <td>8.4</td>\n",
       "      <td>14.1</td>\n",
       "      <td>1.4</td>\n",
       "      <td>2.0</td>\n",
       "      <td>0.8</td>\n",
       "      <td>W</td>\n",
       "      <td>39.0</td>\n",
       "      <td>W</td>\n",
       "      <td>...</td>\n",
       "      <td>72.0</td>\n",
       "      <td>58.0</td>\n",
       "      <td>1024.8</td>\n",
       "      <td>1024.3</td>\n",
       "      <td>7.0</td>\n",
       "      <td>7.0</td>\n",
       "      <td>10.6</td>\n",
       "      <td>13.9</td>\n",
       "      <td>Yes</td>\n",
       "      <td>No</td>\n",
       "    </tr>\n",
       "    <tr>\n",
       "      <th>67203</th>\n",
       "      <td>2008-07-04</td>\n",
       "      <td>Melbourne</td>\n",
       "      <td>9.1</td>\n",
       "      <td>14.5</td>\n",
       "      <td>0.6</td>\n",
       "      <td>1.8</td>\n",
       "      <td>4.2</td>\n",
       "      <td>E</td>\n",
       "      <td>19.0</td>\n",
       "      <td>NNW</td>\n",
       "      <td>...</td>\n",
       "      <td>87.0</td>\n",
       "      <td>49.0</td>\n",
       "      <td>1030.2</td>\n",
       "      <td>1029.0</td>\n",
       "      <td>7.0</td>\n",
       "      <td>6.0</td>\n",
       "      <td>10.2</td>\n",
       "      <td>13.1</td>\n",
       "      <td>No</td>\n",
       "      <td>No</td>\n",
       "    </tr>\n",
       "    <tr>\n",
       "      <th>67204</th>\n",
       "      <td>2008-07-05</td>\n",
       "      <td>Melbourne</td>\n",
       "      <td>4.3</td>\n",
       "      <td>15.5</td>\n",
       "      <td>0.0</td>\n",
       "      <td>0.8</td>\n",
       "      <td>8.4</td>\n",
       "      <td>N</td>\n",
       "      <td>52.0</td>\n",
       "      <td>N</td>\n",
       "      <td>...</td>\n",
       "      <td>81.0</td>\n",
       "      <td>52.0</td>\n",
       "      <td>1028.9</td>\n",
       "      <td>1024.9</td>\n",
       "      <td>2.0</td>\n",
       "      <td>5.0</td>\n",
       "      <td>5.5</td>\n",
       "      <td>14.6</td>\n",
       "      <td>No</td>\n",
       "      <td>No</td>\n",
       "    </tr>\n",
       "  </tbody>\n",
       "</table>\n",
       "<p>5 rows × 23 columns</p>\n",
       "</div>"
      ],
      "text/plain": [
       "            Date   Location  MinTemp  MaxTemp  Rainfall  Evaporation  \\\n",
       "67200 2008-07-01  Melbourne      9.5     15.4       2.0          2.8   \n",
       "67201 2008-07-02  Melbourne     11.0     14.5       0.6          5.2   \n",
       "67202 2008-07-03  Melbourne      8.4     14.1       1.4          2.0   \n",
       "67203 2008-07-04  Melbourne      9.1     14.5       0.6          1.8   \n",
       "67204 2008-07-05  Melbourne      4.3     15.5       0.0          0.8   \n",
       "\n",
       "       Sunshine WindGustDir  WindGustSpeed WindDir9am  ... Humidity9am  \\\n",
       "67200       7.0           W           63.0          W  ...        60.0   \n",
       "67201       4.0           W           63.0          W  ...        66.0   \n",
       "67202       0.8           W           39.0          W  ...        72.0   \n",
       "67203       4.2           E           19.0        NNW  ...        87.0   \n",
       "67204       8.4           N           52.0          N  ...        81.0   \n",
       "\n",
       "       Humidity3pm  Pressure9am  Pressure3pm  Cloud9am  Cloud3pm  Temp9am  \\\n",
       "67200         38.0       1006.8       1010.3       1.0       7.0     11.0   \n",
       "67201         52.0       1013.4       1016.2       7.0       4.0     11.8   \n",
       "67202         58.0       1024.8       1024.3       7.0       7.0     10.6   \n",
       "67203         49.0       1030.2       1029.0       7.0       6.0     10.2   \n",
       "67204         52.0       1028.9       1024.9       2.0       5.0      5.5   \n",
       "\n",
       "       Temp3pm  RainToday  RainTomorrow  \n",
       "67200     14.6        Yes            No  \n",
       "67201     13.7         No           Yes  \n",
       "67202     13.9        Yes            No  \n",
       "67203     13.1         No            No  \n",
       "67204     14.6         No            No  \n",
       "\n",
       "[5 rows x 23 columns]"
      ]
     },
     "execution_count": 12,
     "metadata": {},
     "output_type": "execute_result"
    }
   ],
   "source": [
    "melb = df[df['Location']=='Melbourne']\n",
    "melb['Date'] = pd.to_datetime(melb['Date'])\n",
    "melb.head()"
   ]
  },
  {
   "cell_type": "code",
   "execution_count": 13,
   "id": "e8a514fb",
   "metadata": {},
   "outputs": [
    {
     "data": {
      "text/plain": [
       "Date             datetime64[ns]\n",
       "Location                 object\n",
       "MinTemp                 float64\n",
       "MaxTemp                 float64\n",
       "Rainfall                float64\n",
       "Evaporation             float64\n",
       "Sunshine                float64\n",
       "WindGustDir              object\n",
       "WindGustSpeed           float64\n",
       "WindDir9am               object\n",
       "WindDir3pm               object\n",
       "WindSpeed9am            float64\n",
       "WindSpeed3pm            float64\n",
       "Humidity9am             float64\n",
       "Humidity3pm             float64\n",
       "Pressure9am             float64\n",
       "Pressure3pm             float64\n",
       "Cloud9am                float64\n",
       "Cloud3pm                float64\n",
       "Temp9am                 float64\n",
       "Temp3pm                 float64\n",
       "RainToday                object\n",
       "RainTomorrow             object\n",
       "dtype: object"
      ]
     },
     "execution_count": 13,
     "metadata": {},
     "output_type": "execute_result"
    }
   ],
   "source": [
    "melb.dtypes"
   ]
  },
  {
   "cell_type": "code",
   "execution_count": 14,
   "id": "bda14cd3",
   "metadata": {},
   "outputs": [
    {
     "data": {
      "image/png": "[encoded data removed]",
      "text/plain": [
       "<Figure size 432x288 with 1 Axes>"
      ]
     },
     "metadata": {
      "needs_background": "light"
     },
     "output_type": "display_data"
    }
   ],
   "source": [
    "plt.plot(melb['Date'], melb['Temp3pm'])\n",
    "plt.show()"
   ]
  },
  {
   "cell_type": "code",
   "execution_count": 15,
   "id": "6744ecbf",
   "metadata": {},
   "outputs": [
    {
     "name": "stderr",
     "output_type": "stream",
     "text": [
      "WARNING - (py.warnings._showwarnmsg) - D:\\Python\\lib\\site-packages\\ipykernel_launcher.py:1: SettingWithCopyWarning: \n",
      "A value is trying to be set on a copy of a slice from a DataFrame.\n",
      "Try using .loc[row_indexer,col_indexer] = value instead\n",
      "\n",
      "See the caveats in the documentation: https://pandas.pydata.org/pandas-docs/stable/user_guide/indexing.html#returning-a-view-versus-a-copy\n",
      "  \"\"\"Entry point for launching an IPython kernel.\n",
      "\n"
     ]
    },
    {
     "data": {
      "image/png": "[encoded data removed]",
      "text/plain": [
       "<Figure size 432x288 with 1 Axes>"
      ]
     },
     "metadata": {
      "needs_background": "light"
     },
     "output_type": "display_data"
    }
   ],
   "source": [
    "melb['Year'] = melb['Date'].apply(lambda x: x.year)\n",
    "melb = melb[melb['Year']<=2015]\n",
    "plt.plot(melb['Date'], melb['Temp3pm'])\n",
    "plt.show()"
   ]
  },
  {
   "cell_type": "code",
   "execution_count": 16,
   "id": "80e7743b",
   "metadata": {},
   "outputs": [
    {
     "name": "stderr",
     "output_type": "stream",
     "text": [
      "WARNING - (py.warnings._showwarnmsg) - D:\\Python\\lib\\site-packages\\pandas\\util\\_decorators.py:311: SettingWithCopyWarning: \n",
      "A value is trying to be set on a copy of a slice from a DataFrame\n",
      "\n",
      "See the caveats in the documentation: https://pandas.pydata.org/pandas-docs/stable/user_guide/indexing.html#returning-a-view-versus-a-copy\n",
      "  return func(*args, **kwargs)\n",
      "\n"
     ]
    },
    {
     "data": {
      "text/html": [
       "<div>\n",
       "<style scoped>\n",
       "    .dataframe tbody tr th:only-of-type {\n",
       "        vertical-align: middle;\n",
       "    }\n",
       "\n",
       "    .dataframe tbody tr th {\n",
       "        vertical-align: top;\n",
       "    }\n",
       "\n",
       "    .dataframe thead th {\n",
       "        text-align: right;\n",
       "    }\n",
       "</style>\n",
       "<table border=\"1\" class=\"dataframe\">\n",
       "  <thead>\n",
       "    <tr style=\"text-align: right;\">\n",
       "      <th></th>\n",
       "      <th>ds</th>\n",
       "      <th>y</th>\n",
       "    </tr>\n",
       "  </thead>\n",
       "  <tbody>\n",
       "    <tr>\n",
       "      <th>67200</th>\n",
       "      <td>2008-07-01</td>\n",
       "      <td>14.6</td>\n",
       "    </tr>\n",
       "    <tr>\n",
       "      <th>67201</th>\n",
       "      <td>2008-07-02</td>\n",
       "      <td>13.7</td>\n",
       "    </tr>\n",
       "    <tr>\n",
       "      <th>67202</th>\n",
       "      <td>2008-07-03</td>\n",
       "      <td>13.9</td>\n",
       "    </tr>\n",
       "    <tr>\n",
       "      <th>67203</th>\n",
       "      <td>2008-07-04</td>\n",
       "      <td>13.1</td>\n",
       "    </tr>\n",
       "    <tr>\n",
       "      <th>67204</th>\n",
       "      <td>2008-07-05</td>\n",
       "      <td>14.6</td>\n",
       "    </tr>\n",
       "  </tbody>\n",
       "</table>\n",
       "</div>"
      ],
      "text/plain": [
       "              ds     y\n",
       "67200 2008-07-01  14.6\n",
       "67201 2008-07-02  13.7\n",
       "67202 2008-07-03  13.9\n",
       "67203 2008-07-04  13.1\n",
       "67204 2008-07-05  14.6"
      ]
     },
     "execution_count": 16,
     "metadata": {},
     "output_type": "execute_result"
    }
   ],
   "source": [
    "data = melb[['Date', 'Temp3pm']] \n",
    "data.dropna(inplace=True)\n",
    "data.columns = ['ds', 'y'] \n",
    "data.head()"
   ]
  },
  {
   "cell_type": "raw",
   "id": "99934a48",
   "metadata": {},
   "source": [
    "2.TRAIN MODEL"
   ]
  },
  {
   "cell_type": "code",
   "execution_count": 17,
   "id": "cb31b4d9",
   "metadata": {},
   "outputs": [],
   "source": [
    "m = NeuralProphet()"
   ]
  },
  {
   "cell_type": "code",
   "execution_count": 18,
   "id": "24a2bb37",
   "metadata": {},
   "outputs": [
    {
     "name": "stderr",
     "output_type": "stream",
     "text": [
      "INFO - (NP.utils.set_auto_seasonalities) - Disabling daily seasonality. Run NeuralProphet with daily_seasonality=True to override this.\n",
      "INFO - (NP.config.set_auto_batch_epoch) - Auto-set batch_size to 32\n"
     ]
    },
    {
     "data": {
      "application/vnd.jupyter.widget-view+json": {
       "model_id": "ae7de7c2f3ff408c8bf061e60f4dd5de",
       "version_major": 2,
       "version_minor": 0
      },
      "text/plain": [
       "  0%|          | 0/268 [00:00<?, ?it/s]"
      ]
     },
     "metadata": {},
     "output_type": "display_data"
    },
    {
     "name": "stderr",
     "output_type": "stream",
     "text": [
      "INFO - (NP.utils_torch.lr_range_test) - lr-range-test results: steep: 5.81E-02, min: 1.11E+00\n"
     ]
    },
    {
     "data": {
      "application/vnd.jupyter.widget-view+json": {
       "model_id": "9cdd925bb2c94430b9c9edd429aad8a7",
       "version_major": 2,
       "version_minor": 0
      },
      "text/plain": [
       "  0%|          | 0/268 [00:00<?, ?it/s]"
      ]
     },
     "metadata": {},
     "output_type": "display_data"
    },
    {
     "name": "stderr",
     "output_type": "stream",
     "text": [
      "INFO - (NP.utils_torch.lr_range_test) - lr-range-test results: steep: 5.81E-02, min: 1.30E+00\n"
     ]
    },
    {
     "data": {
      "application/vnd.jupyter.widget-view+json": {
       "model_id": "2d1fab1fa3534cbf8928cd71bb2c19a4",
       "version_major": 2,
       "version_minor": 0
      },
      "text/plain": [
       "  0%|          | 0/268 [00:00<?, ?it/s]"
      ]
     },
     "metadata": {},
     "output_type": "display_data"
    },
    {
     "name": "stderr",
     "output_type": "stream",
     "text": [
      "INFO - (NP.utils_torch.lr_range_test) - lr-range-test results: steep: 6.28E-02, min: 1.20E+00\n",
      "INFO - (NP.forecaster._init_train_loader) - lr-range-test selected learning rate: 5.96E-02\n",
      "Epoch[1000/1000]: 100%|███████| 1000/1000 [02:06<00:00,  7.92it/s, SmoothL1Loss=0.0144, MAE=3.02, RMSE=3.94, RegLoss=0]\n"
     ]
    }
   ],
   "source": [
    "model = m.fit(data, freq='D', epochs=1000)"
   ]
  },
  {
   "cell_type": "raw",
   "id": "c7babad6",
   "metadata": {},
   "source": [
    "3.FORECAST AWAY"
   ]
  },
  {
   "cell_type": "code",
   "execution_count": 19,
   "id": "073e0c79",
   "metadata": {},
   "outputs": [
    {
     "data": {
      "text/html": [
       "<div>\n",
       "<style scoped>\n",
       "    .dataframe tbody tr th:only-of-type {\n",
       "        vertical-align: middle;\n",
       "    }\n",
       "\n",
       "    .dataframe tbody tr th {\n",
       "        vertical-align: top;\n",
       "    }\n",
       "\n",
       "    .dataframe thead th {\n",
       "        text-align: right;\n",
       "    }\n",
       "</style>\n",
       "<table border=\"1\" class=\"dataframe\">\n",
       "  <thead>\n",
       "    <tr style=\"text-align: right;\">\n",
       "      <th></th>\n",
       "      <th>ds</th>\n",
       "      <th>y</th>\n",
       "      <th>yhat1</th>\n",
       "      <th>residual1</th>\n",
       "      <th>trend</th>\n",
       "      <th>season_yearly</th>\n",
       "      <th>season_weekly</th>\n",
       "    </tr>\n",
       "  </thead>\n",
       "  <tbody>\n",
       "    <tr>\n",
       "      <th>0</th>\n",
       "      <td>2015-01-06</td>\n",
       "      <td>None</td>\n",
       "      <td>26.178497</td>\n",
       "      <td>NaN</td>\n",
       "      <td>20.693336</td>\n",
       "      <td>5.266646</td>\n",
       "      <td>0.218513</td>\n",
       "    </tr>\n",
       "    <tr>\n",
       "      <th>1</th>\n",
       "      <td>2015-01-07</td>\n",
       "      <td>None</td>\n",
       "      <td>26.104713</td>\n",
       "      <td>NaN</td>\n",
       "      <td>20.696518</td>\n",
       "      <td>5.412980</td>\n",
       "      <td>-0.004782</td>\n",
       "    </tr>\n",
       "    <tr>\n",
       "      <th>2</th>\n",
       "      <td>2015-01-08</td>\n",
       "      <td>None</td>\n",
       "      <td>26.390472</td>\n",
       "      <td>NaN</td>\n",
       "      <td>20.699696</td>\n",
       "      <td>5.556311</td>\n",
       "      <td>0.134464</td>\n",
       "    </tr>\n",
       "    <tr>\n",
       "      <th>3</th>\n",
       "      <td>2015-01-09</td>\n",
       "      <td>None</td>\n",
       "      <td>26.469913</td>\n",
       "      <td>NaN</td>\n",
       "      <td>20.702877</td>\n",
       "      <td>5.695872</td>\n",
       "      <td>0.071165</td>\n",
       "    </tr>\n",
       "    <tr>\n",
       "      <th>4</th>\n",
       "      <td>2015-01-10</td>\n",
       "      <td>None</td>\n",
       "      <td>26.523273</td>\n",
       "      <td>NaN</td>\n",
       "      <td>20.706057</td>\n",
       "      <td>5.830921</td>\n",
       "      <td>-0.013705</td>\n",
       "    </tr>\n",
       "  </tbody>\n",
       "</table>\n",
       "</div>"
      ],
      "text/plain": [
       "          ds     y      yhat1 residual1      trend  season_yearly  \\\n",
       "0 2015-01-06  None  26.178497       NaN  20.693336       5.266646   \n",
       "1 2015-01-07  None  26.104713       NaN  20.696518       5.412980   \n",
       "2 2015-01-08  None  26.390472       NaN  20.699696       5.556311   \n",
       "3 2015-01-09  None  26.469913       NaN  20.702877       5.695872   \n",
       "4 2015-01-10  None  26.523273       NaN  20.706057       5.830921   \n",
       "\n",
       "   season_weekly  \n",
       "0       0.218513  \n",
       "1      -0.004782  \n",
       "2       0.134464  \n",
       "3       0.071165  \n",
       "4      -0.013705  "
      ]
     },
     "execution_count": 19,
     "metadata": {},
     "output_type": "execute_result"
    }
   ],
   "source": [
    "future = m.make_future_dataframe(data, periods=900)\n",
    "forecast = m.predict(future)\n",
    "forecast.head()"
   ]
  },
  {
   "cell_type": "code",
   "execution_count": 20,
   "id": "d2c0b727",
   "metadata": {},
   "outputs": [
    {
     "data": {
      "image/png": "[encoded data removed]",
      "text/plain": [
       "<Figure size 720x432 with 1 Axes>"
      ]
     },
     "metadata": {},
     "output_type": "display_data"
    }
   ],
   "source": [
    "plot1 = m.plot(forecast)"
   ]
  },
  {
   "cell_type": "code",
   "execution_count": 21,
   "id": "3a22f1a9",
   "metadata": {
    "scrolled": true
   },
   "outputs": [
    {
     "data": {
      "image/png": "[encoded data removed]",
      "text/plain": [
       "<Figure size 720x648 with 3 Axes>"
      ]
     },
     "metadata": {},
     "output_type": "display_data"
    }
   ],
   "source": [
    "plt2 = m.plot_components(forecast)"
   ]
  },
  {
   "cell_type": "raw",
   "id": "c207e0b8",
   "metadata": {},
   "source": [
    "4. Save Model"
   ]
  },
  {
   "cell_type": "code",
   "execution_count": 29,
   "id": "a8bbe6e3",
   "metadata": {},
   "outputs": [],
   "source": [
    "with open('saved_model.pkl', \"wb\") as f:\n",
    "    pickle.dump(m, f)"
   ]
  },
  {
   "cell_type": "code",
   "execution_count": 23,
   "id": "c6f28539",
   "metadata": {},
   "outputs": [],
   "source": [
    "del m"
   ]
  },
  {
   "cell_type": "code",
   "execution_count": 24,
   "id": "941de9e5",
   "metadata": {},
   "outputs": [],
   "source": [
    "with open('saved_model.pkl', \"rb\") as f:\n",
    "    m = pickle.load(f)\n"
   ]
  },
  {
   "cell_type": "code",
   "execution_count": 27,
   "id": "3be33f64",
   "metadata": {
    "scrolled": true
   },
   "outputs": [
    {
     "data": {
      "text/html": [
       "<div>\n",
       "<style scoped>\n",
       "    .dataframe tbody tr th:only-of-type {\n",
       "        vertical-align: middle;\n",
       "    }\n",
       "\n",
       "    .dataframe tbody tr th {\n",
       "        vertical-align: top;\n",
       "    }\n",
       "\n",
       "    .dataframe thead th {\n",
       "        text-align: right;\n",
       "    }\n",
       "</style>\n",
       "<table border=\"1\" class=\"dataframe\">\n",
       "  <thead>\n",
       "    <tr style=\"text-align: right;\">\n",
       "      <th></th>\n",
       "      <th>ds</th>\n",
       "      <th>y</th>\n",
       "      <th>yhat1</th>\n",
       "      <th>residual1</th>\n",
       "      <th>trend</th>\n",
       "      <th>season_yearly</th>\n",
       "      <th>season_weekly</th>\n",
       "    </tr>\n",
       "  </thead>\n",
       "  <tbody>\n",
       "    <tr>\n",
       "      <th>0</th>\n",
       "      <td>2015-01-06</td>\n",
       "      <td>None</td>\n",
       "      <td>26.178497</td>\n",
       "      <td>NaN</td>\n",
       "      <td>20.693336</td>\n",
       "      <td>5.266646</td>\n",
       "      <td>0.218513</td>\n",
       "    </tr>\n",
       "    <tr>\n",
       "      <th>1</th>\n",
       "      <td>2015-01-07</td>\n",
       "      <td>None</td>\n",
       "      <td>26.104713</td>\n",
       "      <td>NaN</td>\n",
       "      <td>20.696518</td>\n",
       "      <td>5.412980</td>\n",
       "      <td>-0.004782</td>\n",
       "    </tr>\n",
       "    <tr>\n",
       "      <th>2</th>\n",
       "      <td>2015-01-08</td>\n",
       "      <td>None</td>\n",
       "      <td>26.390472</td>\n",
       "      <td>NaN</td>\n",
       "      <td>20.699696</td>\n",
       "      <td>5.556311</td>\n",
       "      <td>0.134464</td>\n",
       "    </tr>\n",
       "    <tr>\n",
       "      <th>3</th>\n",
       "      <td>2015-01-09</td>\n",
       "      <td>None</td>\n",
       "      <td>26.469913</td>\n",
       "      <td>NaN</td>\n",
       "      <td>20.702877</td>\n",
       "      <td>5.695872</td>\n",
       "      <td>0.071165</td>\n",
       "    </tr>\n",
       "    <tr>\n",
       "      <th>4</th>\n",
       "      <td>2015-01-10</td>\n",
       "      <td>None</td>\n",
       "      <td>26.523273</td>\n",
       "      <td>NaN</td>\n",
       "      <td>20.706057</td>\n",
       "      <td>5.830921</td>\n",
       "      <td>-0.013705</td>\n",
       "    </tr>\n",
       "  </tbody>\n",
       "</table>\n",
       "</div>"
      ],
      "text/plain": [
       "          ds     y      yhat1 residual1      trend  season_yearly  \\\n",
       "0 2015-01-06  None  26.178497       NaN  20.693336       5.266646   \n",
       "1 2015-01-07  None  26.104713       NaN  20.696518       5.412980   \n",
       "2 2015-01-08  None  26.390472       NaN  20.699696       5.556311   \n",
       "3 2015-01-09  None  26.469913       NaN  20.702877       5.695872   \n",
       "4 2015-01-10  None  26.523273       NaN  20.706057       5.830921   \n",
       "\n",
       "   season_weekly  \n",
       "0       0.218513  \n",
       "1      -0.004782  \n",
       "2       0.134464  \n",
       "3       0.071165  \n",
       "4      -0.013705  "
      ]
     },
     "execution_count": 27,
     "metadata": {},
     "output_type": "execute_result"
    }
   ],
   "source": [
    "future = m.make_future_dataframe(data, periods=1900)\n",
    "forecast = m.predict(future)\n",
    "forecast.head()"
   ]
  },
  {
   "cell_type": "code",
   "execution_count": 28,
   "id": "7eb50dbe",
   "metadata": {},
   "outputs": [
    {
     "data": {
      "image/png": "[encoded data removed]",
      "text/plain": [
       "<Figure size 720x432 with 1 Axes>"
      ]
     },
     "metadata": {},
     "output_type": "display_data"
    }
   ],
   "source": [
    "plot1 = m.plot(forecast)"
   ]
  },
  {
   "cell_type": "code",
   "execution_count": null,
   "id": "03aa4e3b",
   "metadata": {},
   "outputs": [],
   "source": []
  }
 ],
 "metadata": {
  "kernelspec": {
   "display_name": "Python 3 (ipykernel)",
   "language": "python",
   "name": "python3"
  },
  "language_info": {
   "codemirror_mode": {
    "name": "ipython",
    "version": 3
   },
   "file_extension": ".py",
   "mimetype": "text/x-python",
   "name": "python",
   "nbconvert_exporter": "python",
   "pygments_lexer": "ipython3",
   "version": "3.7.3"
  }
 },
 "nbformat": 4,
 "nbformat_minor": 5
}
